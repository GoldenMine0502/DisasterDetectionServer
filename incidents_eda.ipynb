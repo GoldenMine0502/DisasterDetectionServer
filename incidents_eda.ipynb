{
 "cells": [
  {
   "cell_type": "code",
   "id": "initial_id",
   "metadata": {
    "collapsed": true,
    "ExecuteTime": {
     "end_time": "2024-10-06T14:35:17.934474Z",
     "start_time": "2024-10-06T14:35:17.927357Z"
    }
   },
   "source": [
    "import numpy as np\n",
    "from datasets import tqdm\n",
    "from matplotlib import pyplot as plt\n",
    "%matplotlib inline\n",
    "\n",
    "from sklearn.decomposition import IncrementalPCA, PCA\n",
    "from sklearn.ensemble import IsolationForest\n",
    "\n",
    "from incidents_dataset import load_compressed_images"
   ],
   "outputs": [],
   "execution_count": 5
  },
  {
   "metadata": {
    "ExecuteTime": {
     "end_time": "2024-10-06T14:35:19.223707Z",
     "start_time": "2024-10-06T14:35:19.218222Z"
    }
   },
   "cell_type": "code",
   "source": [
    "def batch_generator(batch_size):\n",
    "    generator = load_compressed_images('dataset/cached_train.bin')\n",
    "    \n",
    "    buffer = []\n",
    "    labels = []\n",
    "    for image, label in generator:\n",
    "        if len(buffer) < batch_size:\n",
    "            buffer.append(image.flatten())\n",
    "            labels.append(label.flatten())\n",
    "        else:\n",
    "            yield np.stack(buffer), np.stack(labels)\n",
    "            buffer.clear()\n",
    "            labels.clear()"
   ],
   "id": "3595b72a7a6bcb24",
   "outputs": [],
   "execution_count": 6
  },
  {
   "metadata": {
    "ExecuteTime": {
     "start_time": "2024-10-06T14:35:21.072928Z"
    }
   },
   "cell_type": "code",
   "source": [
    "# 2. Incremental PCA 설정\n",
    "n_components = 2  # 축소할 차원 수\n",
    "ipca = IncrementalPCA(n_components=n_components)\n",
    "\n",
    "batch_size = 256\n",
    "\n",
    "# 3. Generator로부터 데이터를 배치 단위로 읽어와 Incremental PCA 학습\n",
    "generator = batch_generator(batch_size)\n",
    "print('batch size:', batch_size)\n",
    "# partial_fit: Incremental PCA의 주성분을 점진적으로 학습\n",
    "for (batch, labels) in tqdm(generator, ncols=75):\n",
    "    if batch.shape[0] > 1:  # 배치 크기가 1보다 큰 경우만 처리\n",
    "        ipca.partial_fit(batch)\n",
    "        \n",
    "# 4. 학습된 Incremental PCA를 사용하여 데이터 차원 축소\n",
    "# 다시 generator를 사용하여 변환\n",
    "transformed_data = []\n",
    "\n",
    "generator = batch_generator(batch_size)\n",
    "for (batch, labels) in tqdm(generator, ncols=75):\n",
    "    if batch.shape[0] > 1:  # 배치 크기가 1보다 큰 경우만 처리\n",
    "        transformed_batch = ipca.transform(batch)\n",
    "        transformed_data.append(transformed_batch)\n",
    "        \n",
    "final_data = np.vstack(transformed_data)  # 모든 배치를 모아서 최종 결과 생성\n",
    "print(f\"Reduced data shape: {final_data.shape}\")"
   ],
   "id": "88bffebec0521e20",
   "outputs": [
    {
     "data": {
      "text/plain": [
       "0it [00:00, ?it/s]"
      ],
      "application/vnd.jupyter.widget-view+json": {
       "version_major": 2,
       "version_minor": 0,
       "model_id": "a363c1971e5e41b79383e60873b05e5d"
      }
     },
     "metadata": {},
     "output_type": "display_data"
    }
   ],
   "execution_count": null
  },
  {
   "metadata": {
    "ExecuteTime": {
     "end_time": "2024-10-06T14:12:04.973708Z",
     "start_time": "2024-10-06T14:12:04.925835Z"
    }
   },
   "cell_type": "code",
   "source": [
    "# final_data는 차원이 축소된 데이터라고 가정\n",
    "# n_components = 2로 설정하여 시각화 용도로 다시 축소\n",
    "# pca_vis = PCA(n_components=2)\n",
    "# data_2d = pca_vis.fit_transform(final_data)\n",
    "\n",
    "# Isolation Forest를 사용하여 이상치 탐지\n",
    "iso_forest = IsolationForest(contamination=0.05, random_state=42)  # contamination: 이상치 비율\n",
    "outlier_labels = iso_forest.fit_predict(final_data)\n",
    "\n",
    "# 정상 데이터와 이상치를 분리\n",
    "normal_data = final_data[outlier_labels == 1]\n",
    "outlier_data = final_data[outlier_labels == -1]\n",
    "\n",
    "# 시각화\n",
    "plt.figure(figsize=(12, 8))\n",
    "plt.scatter(normal_data[:, 0], normal_data[:, 1], c='blue', label='Normal')\n",
    "plt.scatter(outlier_data[:, 0], outlier_data[:, 1], c='red', label='Outliers')\n",
    "plt.title('PCA Visualization of Reduced Data with Outliers')\n",
    "plt.xlabel('Principal Component 1')\n",
    "plt.ylabel('Principal Component 2')\n",
    "plt.legend()\n",
    "plt.show()\n",
    "\n",
    "# 이상치 제거 후의 데이터\n",
    "cleaned_data = final_data[outlier_labels == 1]\n",
    "print(f\"Original shape: {final_data.shape}\")\n",
    "print(f\"Cleaned data shape: {cleaned_data.shape}\")"
   ],
   "id": "3955cbe622f1426d",
   "outputs": [
    {
     "ename": "NameError",
     "evalue": "name 'final_data' is not defined",
     "output_type": "error",
     "traceback": [
      "\u001B[0;31m---------------------------------------------------------------------------\u001B[0m",
      "\u001B[0;31mNameError\u001B[0m                                 Traceback (most recent call last)",
      "Cell \u001B[0;32mIn[7], line 4\u001B[0m\n\u001B[1;32m      1\u001B[0m \u001B[38;5;66;03m# final_data는 차원이 축소된 데이터라고 가정\u001B[39;00m\n\u001B[1;32m      2\u001B[0m \u001B[38;5;66;03m# n_components = 2로 설정하여 시각화 용도로 다시 축소\u001B[39;00m\n\u001B[1;32m      3\u001B[0m pca_vis \u001B[38;5;241m=\u001B[39m PCA(n_components\u001B[38;5;241m=\u001B[39m\u001B[38;5;241m2\u001B[39m)\n\u001B[0;32m----> 4\u001B[0m data_2d \u001B[38;5;241m=\u001B[39m pca_vis\u001B[38;5;241m.\u001B[39mfit_transform(\u001B[43mfinal_data\u001B[49m)\n\u001B[1;32m      6\u001B[0m \u001B[38;5;66;03m# Isolation Forest를 사용하여 이상치 탐지\u001B[39;00m\n\u001B[1;32m      7\u001B[0m iso_forest \u001B[38;5;241m=\u001B[39m IsolationForest(contamination\u001B[38;5;241m=\u001B[39m\u001B[38;5;241m0.05\u001B[39m, random_state\u001B[38;5;241m=\u001B[39m\u001B[38;5;241m42\u001B[39m)  \u001B[38;5;66;03m# contamination: 이상치 비율\u001B[39;00m\n",
      "\u001B[0;31mNameError\u001B[0m: name 'final_data' is not defined"
     ]
    }
   ],
   "execution_count": 7
  },
  {
   "metadata": {},
   "cell_type": "code",
   "outputs": [],
   "execution_count": null,
   "source": "",
   "id": "4c3eaa08f83a3db8"
  }
 ],
 "metadata": {
  "kernelspec": {
   "display_name": "Python 3",
   "language": "python",
   "name": "python3"
  },
  "language_info": {
   "codemirror_mode": {
    "name": "ipython",
    "version": 2
   },
   "file_extension": ".py",
   "mimetype": "text/x-python",
   "name": "python",
   "nbconvert_exporter": "python",
   "pygments_lexer": "ipython2",
   "version": "2.7.6"
  }
 },
 "nbformat": 4,
 "nbformat_minor": 5
}
